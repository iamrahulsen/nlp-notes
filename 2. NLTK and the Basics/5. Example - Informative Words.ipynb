{
 "cells": [
  {
   "cell_type": "markdown",
   "metadata": {},
   "source": [
    "# NLTK and the Basics - Example: Informative Words"
   ]
  },
  {
   "cell_type": "code",
   "execution_count": 1,
   "metadata": {
    "collapsed": true
   },
   "outputs": [],
   "source": [
    "import nltk"
   ]
  },
  {
   "cell_type": "code",
   "execution_count": 2,
   "metadata": {
    "collapsed": true
   },
   "outputs": [],
   "source": [
    "alice = nltk.corpus.gutenberg.words(\"carroll-alice.txt\")"
   ]
  },
  {
   "cell_type": "code",
   "execution_count": 3,
   "metadata": {
    "collapsed": true
   },
   "outputs": [],
   "source": [
    "alice_fd = nltk.FreqDist(alice)"
   ]
  },
  {
   "cell_type": "markdown",
   "metadata": {},
   "source": [
    "Find the 100 most common words."
   ]
  },
  {
   "cell_type": "code",
   "execution_count": 4,
   "metadata": {
    "collapsed": true
   },
   "outputs": [],
   "source": [
    "alice_fd_100 = alice_fd.most_common(100)"
   ]
  },
  {
   "cell_type": "code",
   "execution_count": 5,
   "metadata": {},
   "outputs": [],
   "source": [
    "moby = nltk.corpus.gutenberg.words(\"melville-moby_dick.txt\")\n",
    "moby_fd = nltk.FreqDist(moby)\n",
    "moby_fd_100 = moby_fd.most_common(100)"
   ]
  },
  {
   "cell_type": "markdown",
   "metadata": {},
   "source": [
    "We no longer care exactly how many times each word was seen and can drop the count."
   ]
  },
  {
   "cell_type": "code",
   "execution_count": 6,
   "metadata": {
    "collapsed": true
   },
   "outputs": [],
   "source": [
    "alice_100  = [word[0] for word in alice_fd_100]\n",
    "moby_100 = [word[0] for word in moby_fd_100]"
   ]
  },
  {
   "cell_type": "markdown",
   "metadata": {},
   "source": [
    "Two sets can be subtracted from one another leaving us with the difference."
   ]
  },
  {
   "cell_type": "code",
   "execution_count": 7,
   "metadata": {},
   "outputs": [
    {
     "data": {
      "text/plain": [
       "['ll',\n",
       " 'much',\n",
       " 'can',\n",
       " 'Alice',\n",
       " 'herself',\n",
       " 'thought',\n",
       " ':',\n",
       " 'Mock',\n",
       " 'again',\n",
       " 'she',\n",
       " 'Queen',\n",
       " 'King',\n",
       " '*',\n",
       " 'Turtle',\n",
       " 'way',\n",
       " 'could',\n",
       " 'did',\n",
       " 't',\n",
       " 'm',\n",
       " \",'\",\n",
       " 'see',\n",
       " \".'\",\n",
       " 'know',\n",
       " 'little',\n",
       " \"!'\",\n",
       " 'off',\n",
       " 'began',\n",
       " 'went',\n",
       " 'say',\n",
       " 'Hatter',\n",
       " \"?'\",\n",
       " 'quite',\n",
       " 'your',\n",
       " 'said',\n",
       " 'Gryphon',\n",
       " 'do']"
      ]
     },
     "execution_count": 7,
     "metadata": {},
     "output_type": "execute_result"
    }
   ],
   "source": [
    "list(set(alice_100) - set(moby_100))"
   ]
  },
  {
   "cell_type": "code",
   "execution_count": 8,
   "metadata": {},
   "outputs": [
    {
     "data": {
      "text/plain": [
       "['will',\n",
       " 'from',\n",
       " 'man',\n",
       " 'over',\n",
       " 'some',\n",
       " 'been',\n",
       " 'head',\n",
       " 'other',\n",
       " 'only',\n",
       " 'more',\n",
       " '!\"',\n",
       " 'who',\n",
       " 'are',\n",
       " 'him',\n",
       " '\"',\n",
       " 'we',\n",
       " 'such',\n",
       " '?',\n",
       " 'these',\n",
       " 'long',\n",
       " 'ye',\n",
       " 'ship',\n",
       " 'boat',\n",
       " 'sea',\n",
       " 'though',\n",
       " 'Ahab',\n",
       " 'which',\n",
       " 'their',\n",
       " 'But',\n",
       " '.\"',\n",
       " 'now',\n",
       " 'any',\n",
       " 'old',\n",
       " 'than',\n",
       " 'whale',\n",
       " 'upon']"
      ]
     },
     "execution_count": 8,
     "metadata": {},
     "output_type": "execute_result"
    }
   ],
   "source": [
    "list(set(moby_100) - set(alice_100))"
   ]
  }
 ],
 "metadata": {
  "kernelspec": {
   "display_name": "Python 3",
   "language": "python",
   "name": "python3"
  },
  "language_info": {
   "codemirror_mode": {
    "name": "ipython",
    "version": 3
   },
   "file_extension": ".py",
   "mimetype": "text/x-python",
   "name": "python",
   "nbconvert_exporter": "python",
   "pygments_lexer": "ipython3",
   "version": "3.8.3"
  }
 },
 "nbformat": 4,
 "nbformat_minor": 2
}
