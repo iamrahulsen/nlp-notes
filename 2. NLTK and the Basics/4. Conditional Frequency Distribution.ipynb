{
 "cells": [
  {
   "cell_type": "markdown",
   "metadata": {},
   "source": [
    "# NLTK and the Basics - Conditional Frequency Distribution"
   ]
  },
  {
   "cell_type": "code",
   "execution_count": 1,
   "metadata": {
    "collapsed": true
   },
   "outputs": [],
   "source": [
    "import nltk"
   ]
  },
  {
   "cell_type": "markdown",
   "metadata": {},
   "source": [
    "A conditional frequency distribution counts multiple cases or conditions. "
   ]
  },
  {
   "cell_type": "code",
   "execution_count": 2,
   "metadata": {},
   "outputs": [],
   "source": [
    "names = [(\"Group A\", \"Paul\"),(\"Group A\", \"Mike\"),(\"Group A\", \"Katy\"),(\"Group B\", \"Amy\"),(\"Group B\", \"Joe\"),(\"Group B\", \"Amy\")]"
   ]
  },
  {
   "cell_type": "code",
   "execution_count": 3,
   "metadata": {},
   "outputs": [
    {
     "data": {
      "text/plain": [
       "[('Group A', 'Paul'),\n",
       " ('Group A', 'Mike'),\n",
       " ('Group A', 'Katy'),\n",
       " ('Group B', 'Amy'),\n",
       " ('Group B', 'Joe'),\n",
       " ('Group B', 'Amy')]"
      ]
     },
     "execution_count": 3,
     "metadata": {},
     "output_type": "execute_result"
    }
   ],
   "source": [
    "names"
   ]
  },
  {
   "cell_type": "markdown",
   "metadata": {},
   "source": [
    "Running a regular frequency distribution on the list..."
   ]
  },
  {
   "cell_type": "code",
   "execution_count": 4,
   "metadata": {},
   "outputs": [
    {
     "data": {
      "text/plain": [
       "FreqDist({('Group A', 'Katy'): 1,\n",
       "          ('Group A', 'Mike'): 1,\n",
       "          ('Group A', 'Paul'): 1,\n",
       "          ('Group B', 'Amy'): 2,\n",
       "          ('Group B', 'Joe'): 1})"
      ]
     },
     "execution_count": 4,
     "metadata": {},
     "output_type": "execute_result"
    }
   ],
   "source": [
    "nltk.FreqDist(names)"
   ]
  },
  {
   "cell_type": "markdown",
   "metadata": {},
   "source": [
    "Running a conditional frequency distribution on the list..."
   ]
  },
  {
   "cell_type": "code",
   "execution_count": 5,
   "metadata": {},
   "outputs": [
    {
     "data": {
      "text/plain": [
       "ConditionalFreqDist(nltk.probability.FreqDist,\n",
       "                    {'Group A': FreqDist({'Katy': 1, 'Mike': 1, 'Paul': 1}),\n",
       "                     'Group B': FreqDist({'Amy': 2, 'Joe': 1})})"
      ]
     },
     "execution_count": 5,
     "metadata": {},
     "output_type": "execute_result"
    }
   ],
   "source": [
    "nltk.ConditionalFreqDist(names)"
   ]
  }
 ],
 "metadata": {
  "kernelspec": {
   "display_name": "Python 3",
   "language": "python",
   "name": "python3"
  },
  "language_info": {
   "codemirror_mode": {
    "name": "ipython",
    "version": 3
   },
   "file_extension": ".py",
   "mimetype": "text/x-python",
   "name": "python",
   "nbconvert_exporter": "python",
   "pygments_lexer": "ipython3",
   "version": "3.8.3"
  }
 },
 "nbformat": 4,
 "nbformat_minor": 2
}
