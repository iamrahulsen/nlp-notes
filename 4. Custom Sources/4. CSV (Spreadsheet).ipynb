{
 "cells": [
  {
   "cell_type": "markdown",
   "metadata": {},
   "source": [
    "# Custom Sources - CSV (Spreadsheet)"
   ]
  },
  {
   "cell_type": "code",
   "execution_count": 1,
   "metadata": {
    "collapsed": true
   },
   "outputs": [],
   "source": [
    "import nltk\n",
    "import csv"
   ]
  },
  {
   "cell_type": "markdown",
   "metadata": {},
   "source": [
    "Importing text stored in cells on a spreadsheet or in a csv file (comma separated values)."
   ]
  },
  {
   "cell_type": "code",
   "execution_count": 3,
   "metadata": {
    "collapsed": false
   },
   "outputs": [],
   "source": [
    "comments = []\n",
    "with open(\"reviews.csv\", \"r\") as file:\n",
    "    reader = csv.reader(file)\n",
    "    for row in reader:\n",
    "        comments.append(row)"
   ]
  },
  {
   "cell_type": "code",
   "execution_count": 4,
   "metadata": {
    "collapsed": false
   },
   "outputs": [
    {
     "data": {
      "text/plain": [
       "[\"This camera is perfect for an enthusiastic amateur photographer. The pictures are razor-sharp, even in macro. It is small enough to fit easily in a coat pocket or purse. It is light enough to carry around all day without bother. Operating its many features is easy and often obvious - i'm no annie lebovitz, but i was able to figure out most of its abilities just messing around with it at a camera store. The manual does a fine job filling in any blanks that remain. The auto-focus performs well, but i love having the 12 optional scene modes - they are dummy-proof, and correspond to many situations in which i would actually seek to use the camera. Comes with a 16 mb compact flash and one rechargeable battery the charging unit, included, is fast and small. I bought a 256 mb cf and a second battery, so it's good to go on a long vacation. I enthusiastically recommend this camera.\"]"
      ]
     },
     "execution_count": 4,
     "metadata": {},
     "output_type": "execute_result"
    }
   ],
   "source": [
    "comments[0]"
   ]
  },
  {
   "cell_type": "markdown",
   "metadata": {},
   "source": [
    "This command will give us a list, where each element is another list of all the tokens for each comment."
   ]
  },
  {
   "cell_type": "code",
   "execution_count": 5,
   "metadata": {
    "collapsed": false
   },
   "outputs": [],
   "source": [
    "tokens = [nltk.word_tokenize(str(entry)) for entry in comments]"
   ]
  },
  {
   "cell_type": "code",
   "execution_count": 6,
   "metadata": {
    "collapsed": false
   },
   "outputs": [
    {
     "data": {
      "text/plain": [
       "['[',\n",
       " '``',\n",
       " 'This',\n",
       " 'camera',\n",
       " 'is',\n",
       " 'perfect',\n",
       " 'for',\n",
       " 'an',\n",
       " 'enthusiastic',\n",
       " 'amateur',\n",
       " 'photographer',\n",
       " '.',\n",
       " 'The',\n",
       " 'pictures',\n",
       " 'are',\n",
       " 'razor-sharp',\n",
       " ',',\n",
       " 'even',\n",
       " 'in',\n",
       " 'macro',\n",
       " '.',\n",
       " 'It',\n",
       " 'is',\n",
       " 'small',\n",
       " 'enough',\n",
       " 'to',\n",
       " 'fit',\n",
       " 'easily',\n",
       " 'in',\n",
       " 'a',\n",
       " 'coat',\n",
       " 'pocket',\n",
       " 'or',\n",
       " 'purse',\n",
       " '.',\n",
       " 'It',\n",
       " 'is',\n",
       " 'light',\n",
       " 'enough',\n",
       " 'to',\n",
       " 'carry',\n",
       " 'around',\n",
       " 'all',\n",
       " 'day',\n",
       " 'without',\n",
       " 'bother',\n",
       " '.',\n",
       " 'Operating',\n",
       " 'its',\n",
       " 'many',\n",
       " 'features',\n",
       " 'is',\n",
       " 'easy',\n",
       " 'and',\n",
       " 'often',\n",
       " 'obvious',\n",
       " '-',\n",
       " 'i',\n",
       " \"'m\",\n",
       " 'no',\n",
       " 'annie',\n",
       " 'lebovitz',\n",
       " ',',\n",
       " 'but',\n",
       " 'i',\n",
       " 'was',\n",
       " 'able',\n",
       " 'to',\n",
       " 'figure',\n",
       " 'out',\n",
       " 'most',\n",
       " 'of',\n",
       " 'its',\n",
       " 'abilities',\n",
       " 'just',\n",
       " 'messing',\n",
       " 'around',\n",
       " 'with',\n",
       " 'it',\n",
       " 'at',\n",
       " 'a',\n",
       " 'camera',\n",
       " 'store',\n",
       " '.',\n",
       " 'The',\n",
       " 'manual',\n",
       " 'does',\n",
       " 'a',\n",
       " 'fine',\n",
       " 'job',\n",
       " 'filling',\n",
       " 'in',\n",
       " 'any',\n",
       " 'blanks',\n",
       " 'that',\n",
       " 'remain',\n",
       " '.',\n",
       " 'The',\n",
       " 'auto-focus',\n",
       " 'performs',\n",
       " 'well',\n",
       " ',',\n",
       " 'but',\n",
       " 'i',\n",
       " 'love',\n",
       " 'having',\n",
       " 'the',\n",
       " '12',\n",
       " 'optional',\n",
       " 'scene',\n",
       " 'modes',\n",
       " '-',\n",
       " 'they',\n",
       " 'are',\n",
       " 'dummy-proof',\n",
       " ',',\n",
       " 'and',\n",
       " 'correspond',\n",
       " 'to',\n",
       " 'many',\n",
       " 'situations',\n",
       " 'in',\n",
       " 'which',\n",
       " 'i',\n",
       " 'would',\n",
       " 'actually',\n",
       " 'seek',\n",
       " 'to',\n",
       " 'use',\n",
       " 'the',\n",
       " 'camera',\n",
       " '.',\n",
       " 'Comes',\n",
       " 'with',\n",
       " 'a',\n",
       " '16',\n",
       " 'mb',\n",
       " 'compact',\n",
       " 'flash',\n",
       " 'and',\n",
       " 'one',\n",
       " 'rechargeable',\n",
       " 'battery',\n",
       " 'the',\n",
       " 'charging',\n",
       " 'unit',\n",
       " ',',\n",
       " 'included',\n",
       " ',',\n",
       " 'is',\n",
       " 'fast',\n",
       " 'and',\n",
       " 'small',\n",
       " '.',\n",
       " 'I',\n",
       " 'bought',\n",
       " 'a',\n",
       " '256',\n",
       " 'mb',\n",
       " 'cf',\n",
       " 'and',\n",
       " 'a',\n",
       " 'second',\n",
       " 'battery',\n",
       " ',',\n",
       " 'so',\n",
       " 'it',\n",
       " \"'s\",\n",
       " 'good',\n",
       " 'to',\n",
       " 'go',\n",
       " 'on',\n",
       " 'a',\n",
       " 'long',\n",
       " 'vacation',\n",
       " '.',\n",
       " 'I',\n",
       " 'enthusiastically',\n",
       " 'recommend',\n",
       " 'this',\n",
       " 'camera',\n",
       " '.',\n",
       " \"''\",\n",
       " ']']"
      ]
     },
     "execution_count": 6,
     "metadata": {},
     "output_type": "execute_result"
    }
   ],
   "source": [
    "tokens[0]"
   ]
  }
 ],
 "metadata": {
  "kernelspec": {
   "display_name": "Python 3",
   "language": "python",
   "name": "python3"
  },
  "language_info": {
   "codemirror_mode": {
    "name": "ipython",
    "version": 3
   },
   "file_extension": ".py",
   "mimetype": "text/x-python",
   "name": "python",
   "nbconvert_exporter": "python",
   "pygments_lexer": "ipython3",
   "version": "3.6.0"
  }
 },
 "nbformat": 4,
 "nbformat_minor": 2
}
