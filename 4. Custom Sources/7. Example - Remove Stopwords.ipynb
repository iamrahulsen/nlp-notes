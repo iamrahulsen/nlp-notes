{
 "cells": [
  {
   "cell_type": "markdown",
   "metadata": {},
   "source": [
    "# Custom Sources - Example: Remove Stopwords"
   ]
  },
  {
   "cell_type": "code",
   "execution_count": 1,
   "metadata": {
    "collapsed": true
   },
   "outputs": [],
   "source": [
    "import nltk"
   ]
  },
  {
   "cell_type": "code",
   "execution_count": 2,
   "metadata": {},
   "outputs": [],
   "source": [
    "alice = nltk.corpus.gutenberg.words(\"carroll-alice.txt\")"
   ]
  },
  {
   "cell_type": "code",
   "execution_count": 3,
   "metadata": {},
   "outputs": [],
   "source": [
    "alice_fd = nltk.FreqDist(alice)"
   ]
  },
  {
   "cell_type": "code",
   "execution_count": 4,
   "metadata": {},
   "outputs": [],
   "source": [
    "alice_100 = alice_fd.most_common(100)\n",
    "alice_common = [word[0] for word in alice_100]\n",
    "common = set(word.lower() for word in alice_common if word.isalpha())"
   ]
  },
  {
   "cell_type": "code",
   "execution_count": 5,
   "metadata": {},
   "outputs": [
    {
     "data": {
      "text/plain": [
       "{'a',\n",
       " 'about',\n",
       " 'again',\n",
       " 'alice',\n",
       " 'all',\n",
       " 'an',\n",
       " 'and',\n",
       " 'as',\n",
       " 'at',\n",
       " 'be',\n",
       " 'began',\n",
       " 'but',\n",
       " 'by',\n",
       " 'can',\n",
       " 'could',\n",
       " 'did',\n",
       " 'do',\n",
       " 'down',\n",
       " 'for',\n",
       " 'gryphon',\n",
       " 'had',\n",
       " 'hatter',\n",
       " 'have',\n",
       " 'he',\n",
       " 'her',\n",
       " 'herself',\n",
       " 'his',\n",
       " 'i',\n",
       " 'if',\n",
       " 'in',\n",
       " 'into',\n",
       " 'is',\n",
       " 'it',\n",
       " 'its',\n",
       " 'king',\n",
       " 'know',\n",
       " 'like',\n",
       " 'little',\n",
       " 'll',\n",
       " 'm',\n",
       " 'me',\n",
       " 'mock',\n",
       " 'much',\n",
       " 'my',\n",
       " 'no',\n",
       " 'not',\n",
       " 'of',\n",
       " 'off',\n",
       " 'on',\n",
       " 'one',\n",
       " 'or',\n",
       " 'out',\n",
       " 'queen',\n",
       " 'quite',\n",
       " 's',\n",
       " 'said',\n",
       " 'say',\n",
       " 'see',\n",
       " 'she',\n",
       " 'so',\n",
       " 't',\n",
       " 'that',\n",
       " 'the',\n",
       " 'them',\n",
       " 'then',\n",
       " 'there',\n",
       " 'they',\n",
       " 'this',\n",
       " 'thought',\n",
       " 'time',\n",
       " 'to',\n",
       " 'turtle',\n",
       " 'up',\n",
       " 'very',\n",
       " 'was',\n",
       " 'way',\n",
       " 'went',\n",
       " 'were',\n",
       " 'what',\n",
       " 'when',\n",
       " 'with',\n",
       " 'would',\n",
       " 'you',\n",
       " 'your'}"
      ]
     },
     "execution_count": 5,
     "metadata": {},
     "output_type": "execute_result"
    }
   ],
   "source": [
    "common"
   ]
  },
  {
   "cell_type": "code",
   "execution_count": 6,
   "metadata": {},
   "outputs": [],
   "source": [
    "descriptive = list(set(common) - set(nltk.corpus.stopwords.words(\"english\")))"
   ]
  },
  {
   "cell_type": "code",
   "execution_count": 7,
   "metadata": {},
   "outputs": [
    {
     "data": {
      "text/plain": [
       "['time',\n",
       " 'gryphon',\n",
       " 'began',\n",
       " 'could',\n",
       " 'like',\n",
       " 'hatter',\n",
       " 'one',\n",
       " 'say',\n",
       " 'king',\n",
       " 'mock',\n",
       " 'see',\n",
       " 'thought',\n",
       " 'turtle',\n",
       " 'queen',\n",
       " 'quite',\n",
       " 'went',\n",
       " 'alice',\n",
       " 'would',\n",
       " 'said',\n",
       " 'little',\n",
       " 'know',\n",
       " 'way',\n",
       " 'much']"
      ]
     },
     "execution_count": 7,
     "metadata": {},
     "output_type": "execute_result"
    }
   ],
   "source": [
    "descriptive"
   ]
  }
 ],
 "metadata": {
  "kernelspec": {
   "display_name": "Python 3",
   "language": "python",
   "name": "python3"
  },
  "language_info": {
   "codemirror_mode": {
    "name": "ipython",
    "version": 3
   },
   "file_extension": ".py",
   "mimetype": "text/x-python",
   "name": "python",
   "nbconvert_exporter": "python",
   "pygments_lexer": "ipython3",
   "version": "3.8.3"
  }
 },
 "nbformat": 4,
 "nbformat_minor": 2
}
